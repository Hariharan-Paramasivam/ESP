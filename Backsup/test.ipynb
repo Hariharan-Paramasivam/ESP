{
 "cells": [
  {
   "cell_type": "code",
   "execution_count": null,
   "metadata": {},
   "outputs": [],
   "source": [
    "thislist = ['hello','Hello','HELLO']\n",
    "print(thislist)"
   ]
  },
  {
   "cell_type": "code",
   "execution_count": null,
   "metadata": {},
   "outputs": [],
   "source": [
    "thislist[1]"
   ]
  },
  {
   "cell_type": "code",
   "execution_count": null,
   "metadata": {},
   "outputs": [],
   "source": [
    "thislist[-1]"
   ]
  },
  {
   "cell_type": "code",
   "execution_count": null,
   "metadata": {},
   "outputs": [],
   "source": [
    "thislist[1:3]=['a']\n",
    "thislist"
   ]
  },
  {
   "cell_type": "code",
   "execution_count": null,
   "metadata": {},
   "outputs": [],
   "source": [
    "c=thislist.pop()\n",
    "c"
   ]
  },
  {
   "cell_type": "code",
   "execution_count": null,
   "metadata": {},
   "outputs": [],
   "source": [
    "l=[98,76,34,21,65]\n",
    "l.sort()"
   ]
  },
  {
   "cell_type": "code",
   "execution_count": null,
   "metadata": {},
   "outputs": [],
   "source": [
    "l"
   ]
  },
  {
   "cell_type": "code",
   "execution_count": null,
   "metadata": {},
   "outputs": [],
   "source": [
    "l=[98,76,34,21,65]\n",
    "sorted(l)"
   ]
  },
  {
   "cell_type": "code",
   "execution_count": null,
   "metadata": {},
   "outputs": [],
   "source": [
    "l"
   ]
  },
  {
   "cell_type": "code",
   "execution_count": null,
   "metadata": {},
   "outputs": [],
   "source": [
    "c=tuple((8,9,6,7))\n",
    "c[0]"
   ]
  },
  {
   "cell_type": "code",
   "execution_count": null,
   "metadata": {},
   "outputs": [],
   "source": [
    "thiset={'apple','banana','cherry'}\n",
    "print(thiset)"
   ]
  },
  {
   "cell_type": "code",
   "execution_count": null,
   "metadata": {},
   "outputs": [],
   "source": [
    "thiset={'apple','orange','apple','banana','cherry','cherry','cherry'}\n",
    "print(thiset)    "
   ]
  },
  {
   "cell_type": "code",
   "execution_count": null,
   "metadata": {},
   "outputs": [],
   "source": [
    "print(thiset)"
   ]
  },
  {
   "cell_type": "code",
   "execution_count": null,
   "metadata": {},
   "outputs": [],
   "source": [
    "for x in thiset:\n",
    "    print(x)"
   ]
  },
  {
   "cell_type": "code",
   "execution_count": null,
   "metadata": {},
   "outputs": [],
   "source": [
    "print('banana' in thiset)"
   ]
  },
  {
   "cell_type": "code",
   "execution_count": null,
   "metadata": {},
   "outputs": [],
   "source": [
    "thiset.add('mango')"
   ]
  },
  {
   "cell_type": "code",
   "execution_count": null,
   "metadata": {},
   "outputs": [],
   "source": [
    "thiset.update(['hello','hi'])"
   ]
  },
  {
   "cell_type": "code",
   "execution_count": null,
   "metadata": {},
   "outputs": [],
   "source": [
    "thiset"
   ]
  },
  {
   "cell_type": "code",
   "execution_count": null,
   "metadata": {},
   "outputs": [],
   "source": [
    "thiset.update(('helo','hii'))"
   ]
  },
  {
   "cell_type": "code",
   "execution_count": null,
   "metadata": {},
   "outputs": [],
   "source": [
    "thiset"
   ]
  },
  {
   "cell_type": "code",
   "execution_count": null,
   "metadata": {},
   "outputs": [],
   "source": [
    "f=thiset.remove('hiii')"
   ]
  },
  {
   "cell_type": "code",
   "execution_count": null,
   "metadata": {},
   "outputs": [],
   "source": [
    "f"
   ]
  },
  {
   "cell_type": "code",
   "execution_count": null,
   "metadata": {},
   "outputs": [],
   "source": [
    "f=thiset.discard('hiii')\n",
    "f"
   ]
  },
  {
   "cell_type": "code",
   "execution_count": null,
   "metadata": {},
   "outputs": [],
   "source": [
    "a=dict()\n",
    "b={'a':1,'b':2,'c':3}\n",
    "print(type(a))\n",
    "type(b)"
   ]
  },
  {
   "cell_type": "code",
   "execution_count": null,
   "metadata": {},
   "outputs": [],
   "source": [
    "b.items()"
   ]
  },
  {
   "cell_type": "code",
   "execution_count": null,
   "metadata": {},
   "outputs": [],
   "source": [
    "x = b.popitem()\n",
    "x"
   ]
  },
  {
   "cell_type": "code",
   "execution_count": null,
   "metadata": {},
   "outputs": [],
   "source": [
    "x = b.pop('a')\n",
    "x"
   ]
  },
  {
   "cell_type": "code",
   "execution_count": null,
   "metadata": {},
   "outputs": [],
   "source": [
    "b"
   ]
  },
  {
   "cell_type": "code",
   "execution_count": null,
   "metadata": {},
   "outputs": [],
   "source": []
  },
  {
   "cell_type": "code",
   "execution_count": null,
   "metadata": {},
   "outputs": [],
   "source": [
    "5-True"
   ]
  },
  {
   "cell_type": "code",
   "execution_count": null,
   "metadata": {},
   "outputs": [],
   "source": [
    "import threading\n",
    "import time\n",
    "\n",
    "# Program 1 - Runs once at boot-up\n",
    "def program_1():\n",
    "    print(\"Program 1 is running once at boot-up.\")\n",
    "    # Simulated logic for Program 1\n",
    "    time.sleep(2)  # Simulate some work\n",
    "    print(\"Program 1 has finished.\")\n",
    "\n",
    "# Program 2 - Runs every 5 minutes (simulated as every 5 seconds)\n",
    "def program_2(stop_event):\n",
    "    while not stop_event.is_set():\n",
    "        print(\"Program 2 is running.\")\n",
    "        # Simulated logic for Program 2\n",
    "        time.sleep(5)  # Simulate a quick work period instead of 5 minutes for testing\n",
    "        \n",
    "        # Sleep for 5 minutes (simulated as 5 seconds for quick testing)\n",
    "        for _ in range(5):  # Change 5 to 300 for actual 5-minute intervals\n",
    "            if stop_event.is_set():\n",
    "                print(\"Program 2 received stop signal.\")\n",
    "                return\n",
    "            time.sleep(1)\n",
    "        \n",
    "        print(\"Program 2 is preparing for next cycle.\")\n",
    "\n",
    "# Program 3 - Runs when triggered externally\n",
    "def program_3():\n",
    "    print(\"Program 3 is running.\")\n",
    "    # Simulated logic for Program 3\n",
    "    time.sleep(10)  # Simulate some work\n",
    "    print(\"Program 3 has finished.\")\n",
    "\n",
    "# Function to handle the external trigger\n",
    "def external_trigger(program_3_thread):\n",
    "    print(\"External trigger activated.\")\n",
    "    program_3_thread.start()\n",
    "\n",
    "# Main execution\n",
    "if __name__ == \"__main__\":\n",
    "    # Create an event to signal stopping of Program 2\n",
    "    stop_event = threading.Event()\n",
    "\n",
    "    # Create the threads\n",
    "    program_2_thread = threading.Thread(target=program_2, args=(stop_event,))\n",
    "    program_3_thread = threading.Thread(target=program_3)\n",
    "\n",
    "    # Run Program 1 once at boot-up\n",
    "    program_1()\n",
    "\n",
    "    # Start Program 2 in an infinite loop with 5-minute intervals\n",
    "    program_2_thread.start()\n",
    "\n",
    "    # Simulate external trigger (in actual use, this would be replaced by a GPIO input, etc.)\n",
    "    while True:\n",
    "        user_input = input(\"Press 't' to trigger Program 3: \")\n",
    "        if user_input.lower() == 't':\n",
    "            # Stop Program 2\n",
    "            stop_event.set()\n",
    "            program_2_thread.join()  # Ensure Program 2 has stopped before running Program 3\n",
    "            \n",
    "            # Run Program 3\n",
    "            external_trigger(program_3_thread)\n",
    "            program_3_thread.join()  # Wait for Program 3 to finish\n",
    "            \n",
    "            # Restart Program 2\n",
    "            stop_event.clear()\n",
    "            program_2_thread = threading.Thread(target=program_2, args=(stop_event,))\n",
    "            program_2_thread.start()\n"
   ]
  },
  {
   "cell_type": "code",
   "execution_count": null,
   "metadata": {},
   "outputs": [],
   "source": [
    "import threading\n",
    "import time\n",
    "\n",
    "# Program 1 - Runs once at boot-up\n",
    "def program_1():\n",
    "    print(\"Program 1 is running once at boot-up.\")\n",
    "    time.sleep(2)  # Simulate some work\n",
    "    print(\"Program 1 has finished.\")\n",
    "\n",
    "# Program 2 - Runs every 5 minutes (simulated as every 5 seconds)\n",
    "def program_2(stop_event):\n",
    "    while not stop_event.is_set():\n",
    "        print(\"Program 2 is running.\")\n",
    "        time.sleep(5)  # Simulate a quick work period instead of 5 minutes for testing\n",
    "        \n",
    "        # Sleep for 5 minutes (simulated as 5 seconds for quick testing)\n",
    "        for _ in range(5):  # Change 5 to 300 for actual 5-minute intervals\n",
    "            if stop_event.is_set():\n",
    "                print(\"Program 2 received stop signal.\")\n",
    "                return\n",
    "            time.sleep(1)\n",
    "        \n",
    "        print(\"Program 2 is preparing for next cycle.\")\n",
    "\n",
    "# Program 3 - Runs when triggered externally\n",
    "def program_3():\n",
    "    print(\"Program 3 is running.\")\n",
    "    time.sleep(10)  # Simulate some work\n",
    "    print(\"Program 3 has finished.\")\n",
    "\n",
    "# Main execution\n",
    "if __name__ == \"__main__\":\n",
    "    # Create an event to signal stopping of Program 2\n",
    "    stop_event = threading.Event()\n",
    "\n",
    "    # Run Program 1 once at boot-up\n",
    "    program_1()\n",
    "\n",
    "    # Create and start the Program 2 thread\n",
    "    program_2_thread = threading.Thread(target=program_2, args=(stop_event,))\n",
    "    program_2_thread.start()\n",
    "\n",
    "    # Simulate external trigger (in actual use, this would be replaced by a GPIO input, etc.)\n",
    "    while True:\n",
    "        user_input = input(\"Press 't' to trigger Program 3: \")\n",
    "        if user_input.lower() == 't':\n",
    "            # Stop Program 2\n",
    "            stop_event.set()\n",
    "            program_2_thread.join()  # Ensure Program 2 has stopped before running Program 3\n",
    "            \n",
    "            # Create and start a new Program 3 thread\n",
    "            program_3_thread = threading.Thread(target=program_3)\n",
    "            program_3_thread.start()\n",
    "            program_3_thread.join()  # Wait for Program 3 to finish\n",
    "            \n",
    "            # Restart Program 2\n",
    "            stop_event.clear()\n",
    "            program_2_thread = threading.Thread(target=program_2, args=(stop_event,))\n",
    "            program_2_thread.start()\n"
   ]
  },
  {
   "cell_type": "code",
   "execution_count": 2,
   "metadata": {},
   "outputs": [
    {
     "name": "stdout",
     "output_type": "stream",
     "text": [
      "Program 1 is running once at boot-up.\n",
      "Program 1 has finished.\n"
     ]
    },
    {
     "name": "stderr",
     "output_type": "stream",
     "text": [
      "Traceback (most recent call last):\n",
      "  File \"<string>\", line 1, in <module>\n",
      "  File \"/Users/hari/Amrita/SEM 1/21ES601 - Embedded System Progrmming/Python/.conda/lib/python3.11/multiprocessing/spawn.py\", line 122, in spawn_main\n",
      "    exitcode = _main(fd, parent_sentinel)\n",
      "               ^^^^^^^^^^^^^^^^^^^^^^^^^^\n",
      "  File \"/Users/hari/Amrita/SEM 1/21ES601 - Embedded System Progrmming/Python/.conda/lib/python3.11/multiprocessing/spawn.py\", line 132, in _main\n",
      "    self = reduction.pickle.load(from_parent)\n",
      "           ^^^^^^^^^^^^^^^^^^^^^^^^^^^^^^^^^^\n",
      "AttributeError: Can't get attribute 'program_2' on <module '__main__' (built-in)>\n",
      "Traceback (most recent call last):\n",
      "  File \"<string>\", line 1, in <module>\n",
      "  File \"/Users/hari/Amrita/SEM 1/21ES601 - Embedded System Progrmming/Python/.conda/lib/python3.11/multiprocessing/spawn.py\", line 122, in spawn_main\n",
      "    exitcode = _main(fd, parent_sentinel)\n",
      "               ^^^^^^^^^^^^^^^^^^^^^^^^^^\n",
      "  File \"/Users/hari/Amrita/SEM 1/21ES601 - Embedded System Progrmming/Python/.conda/lib/python3.11/multiprocessing/spawn.py\", line 132, in _main\n",
      "    self = reduction.pickle.load(from_parent)\n",
      "           ^^^^^^^^^^^^^^^^^^^^^^^^^^^^^^^^^^\n",
      "AttributeError: Can't get attribute 'program_3' on <module '__main__' (built-in)>\n",
      "Traceback (most recent call last):\n",
      "  File \"<string>\", line 1, in <module>\n",
      "  File \"/Users/hari/Amrita/SEM 1/21ES601 - Embedded System Progrmming/Python/.conda/lib/python3.11/multiprocessing/spawn.py\", line 122, in spawn_main\n",
      "    exitcode = _main(fd, parent_sentinel)\n",
      "               ^^^^^^^^^^^^^^^^^^^^^^^^^^\n",
      "  File \"/Users/hari/Amrita/SEM 1/21ES601 - Embedded System Progrmming/Python/.conda/lib/python3.11/multiprocessing/spawn.py\", line 132, in _main\n",
      "    self = reduction.pickle.load(from_parent)\n",
      "           ^^^^^^^^^^^^^^^^^^^^^^^^^^^^^^^^^^\n",
      "AttributeError: Can't get attribute 'program_2' on <module '__main__' (built-in)>\n"
     ]
    },
    {
     "ename": "KeyboardInterrupt",
     "evalue": "Interrupted by user",
     "output_type": "error",
     "traceback": [
      "\u001b[0;31m---------------------------------------------------------------------------\u001b[0m",
      "\u001b[0;31mKeyboardInterrupt\u001b[0m                         Traceback (most recent call last)",
      "Cell \u001b[0;32mIn[2], line 66\u001b[0m\n\u001b[1;32m     63\u001b[0m             program_2_process\u001b[38;5;241m.\u001b[39mstart()\n\u001b[1;32m     65\u001b[0m \u001b[38;5;28;01mif\u001b[39;00m \u001b[38;5;18m__name__\u001b[39m \u001b[38;5;241m==\u001b[39m \u001b[38;5;124m\"\u001b[39m\u001b[38;5;124m__main__\u001b[39m\u001b[38;5;124m\"\u001b[39m:\n\u001b[0;32m---> 66\u001b[0m     \u001b[43mmain\u001b[49m\u001b[43m(\u001b[49m\u001b[43m)\u001b[49m\n",
      "Cell \u001b[0;32mIn[2], line 51\u001b[0m, in \u001b[0;36mmain\u001b[0;34m()\u001b[0m\n\u001b[1;32m     49\u001b[0m \u001b[38;5;66;03m# Simulate external trigger (in actual use, this would be replaced by a GPIO input, etc.)\u001b[39;00m\n\u001b[1;32m     50\u001b[0m \u001b[38;5;28;01mwhile\u001b[39;00m \u001b[38;5;28;01mTrue\u001b[39;00m:\n\u001b[0;32m---> 51\u001b[0m     user_input \u001b[38;5;241m=\u001b[39m \u001b[38;5;28;43minput\u001b[39;49m\u001b[43m(\u001b[49m\u001b[38;5;124;43m\"\u001b[39;49m\u001b[38;5;124;43mPress \u001b[39;49m\u001b[38;5;124;43m'\u001b[39;49m\u001b[38;5;124;43mt\u001b[39;49m\u001b[38;5;124;43m'\u001b[39;49m\u001b[38;5;124;43m to trigger Program 3: \u001b[39;49m\u001b[38;5;124;43m\"\u001b[39;49m\u001b[43m)\u001b[49m\n\u001b[1;32m     52\u001b[0m     \u001b[38;5;28;01mif\u001b[39;00m user_input\u001b[38;5;241m.\u001b[39mlower() \u001b[38;5;241m==\u001b[39m \u001b[38;5;124m'\u001b[39m\u001b[38;5;124mt\u001b[39m\u001b[38;5;124m'\u001b[39m:\n\u001b[1;32m     53\u001b[0m         \u001b[38;5;66;03m# Stop Program 2\u001b[39;00m\n\u001b[1;32m     54\u001b[0m         stop_event\u001b[38;5;241m.\u001b[39mset()\n",
      "File \u001b[0;32m~/Amrita/SEM 1/21ES601 - Embedded System Progrmming/Python/.conda/lib/python3.11/site-packages/ipykernel/kernelbase.py:1282\u001b[0m, in \u001b[0;36mKernel.raw_input\u001b[0;34m(self, prompt)\u001b[0m\n\u001b[1;32m   1280\u001b[0m     msg \u001b[38;5;241m=\u001b[39m \u001b[38;5;124m\"\u001b[39m\u001b[38;5;124mraw_input was called, but this frontend does not support input requests.\u001b[39m\u001b[38;5;124m\"\u001b[39m\n\u001b[1;32m   1281\u001b[0m     \u001b[38;5;28;01mraise\u001b[39;00m StdinNotImplementedError(msg)\n\u001b[0;32m-> 1282\u001b[0m \u001b[38;5;28;01mreturn\u001b[39;00m \u001b[38;5;28;43mself\u001b[39;49m\u001b[38;5;241;43m.\u001b[39;49m\u001b[43m_input_request\u001b[49m\u001b[43m(\u001b[49m\n\u001b[1;32m   1283\u001b[0m \u001b[43m    \u001b[49m\u001b[38;5;28;43mstr\u001b[39;49m\u001b[43m(\u001b[49m\u001b[43mprompt\u001b[49m\u001b[43m)\u001b[49m\u001b[43m,\u001b[49m\n\u001b[1;32m   1284\u001b[0m \u001b[43m    \u001b[49m\u001b[38;5;28;43mself\u001b[39;49m\u001b[38;5;241;43m.\u001b[39;49m\u001b[43m_parent_ident\u001b[49m\u001b[43m[\u001b[49m\u001b[38;5;124;43m\"\u001b[39;49m\u001b[38;5;124;43mshell\u001b[39;49m\u001b[38;5;124;43m\"\u001b[39;49m\u001b[43m]\u001b[49m\u001b[43m,\u001b[49m\n\u001b[1;32m   1285\u001b[0m \u001b[43m    \u001b[49m\u001b[38;5;28;43mself\u001b[39;49m\u001b[38;5;241;43m.\u001b[39;49m\u001b[43mget_parent\u001b[49m\u001b[43m(\u001b[49m\u001b[38;5;124;43m\"\u001b[39;49m\u001b[38;5;124;43mshell\u001b[39;49m\u001b[38;5;124;43m\"\u001b[39;49m\u001b[43m)\u001b[49m\u001b[43m,\u001b[49m\n\u001b[1;32m   1286\u001b[0m \u001b[43m    \u001b[49m\u001b[43mpassword\u001b[49m\u001b[38;5;241;43m=\u001b[39;49m\u001b[38;5;28;43;01mFalse\u001b[39;49;00m\u001b[43m,\u001b[49m\n\u001b[1;32m   1287\u001b[0m \u001b[43m\u001b[49m\u001b[43m)\u001b[49m\n",
      "File \u001b[0;32m~/Amrita/SEM 1/21ES601 - Embedded System Progrmming/Python/.conda/lib/python3.11/site-packages/ipykernel/kernelbase.py:1325\u001b[0m, in \u001b[0;36mKernel._input_request\u001b[0;34m(self, prompt, ident, parent, password)\u001b[0m\n\u001b[1;32m   1322\u001b[0m \u001b[38;5;28;01mexcept\u001b[39;00m \u001b[38;5;167;01mKeyboardInterrupt\u001b[39;00m:\n\u001b[1;32m   1323\u001b[0m     \u001b[38;5;66;03m# re-raise KeyboardInterrupt, to truncate traceback\u001b[39;00m\n\u001b[1;32m   1324\u001b[0m     msg \u001b[38;5;241m=\u001b[39m \u001b[38;5;124m\"\u001b[39m\u001b[38;5;124mInterrupted by user\u001b[39m\u001b[38;5;124m\"\u001b[39m\n\u001b[0;32m-> 1325\u001b[0m     \u001b[38;5;28;01mraise\u001b[39;00m \u001b[38;5;167;01mKeyboardInterrupt\u001b[39;00m(msg) \u001b[38;5;28;01mfrom\u001b[39;00m \u001b[38;5;28;01mNone\u001b[39;00m\n\u001b[1;32m   1326\u001b[0m \u001b[38;5;28;01mexcept\u001b[39;00m \u001b[38;5;167;01mException\u001b[39;00m:\n\u001b[1;32m   1327\u001b[0m     \u001b[38;5;28mself\u001b[39m\u001b[38;5;241m.\u001b[39mlog\u001b[38;5;241m.\u001b[39mwarning(\u001b[38;5;124m\"\u001b[39m\u001b[38;5;124mInvalid Message:\u001b[39m\u001b[38;5;124m\"\u001b[39m, exc_info\u001b[38;5;241m=\u001b[39m\u001b[38;5;28;01mTrue\u001b[39;00m)\n",
      "\u001b[0;31mKeyboardInterrupt\u001b[0m: Interrupted by user"
     ]
    }
   ],
   "source": [
    "import multiprocessing\n",
    "import time\n",
    "\n",
    "# Program 1 - Runs once at boot-up\n",
    "def program_1():\n",
    "    print(\"Program 1 is running once at boot-up.\")\n",
    "    time.sleep(2)  # Simulate some work\n",
    "    print(\"Program 1 has finished.\")\n",
    "\n",
    "# Program 2 - Runs every 5 minutes (simulated as every 5 seconds)\n",
    "def program_2(stop_event):\n",
    "    while not stop_event.is_set():\n",
    "        print(\"Program 2 is running.\")\n",
    "        time.sleep(5)  # Simulate a quick work period instead of 5 minutes for testing\n",
    "        \n",
    "        # Sleep for 5 minutes (simulated as 5 seconds for quick testing)\n",
    "        for _ in range(5):  # Change 5 to 300 for actual 5-minute intervals\n",
    "            if stop_event.is_set():\n",
    "                print(\"Program 2 received stop signal.\")\n",
    "                return\n",
    "            time.sleep(1)\n",
    "        \n",
    "        print(\"Program 2 is preparing for next cycle.\")\n",
    "\n",
    "# Program 3 - Runs when triggered externally\n",
    "def program_3():\n",
    "    print(\"Program 3 is running.\")\n",
    "    time.sleep(10)  # Simulate some work\n",
    "    print(\"Program 3 has finished.\")\n",
    "\n",
    "# Function to handle external triggers\n",
    "def external_trigger():\n",
    "    # Create and start a new Program 3 process\n",
    "    program_3_process = multiprocessing.Process(target=program_3)\n",
    "    program_3_process.start()\n",
    "    program_3_process.join()  # Wait for Program 3 to finish\n",
    "\n",
    "def main():\n",
    "    # Create an event to signal stopping of Program 2\n",
    "    stop_event = multiprocessing.Event()\n",
    "\n",
    "    # Run Program 1 once at boot-up\n",
    "    program_1()\n",
    "\n",
    "    # Create and start the Program 2 process\n",
    "    program_2_process = multiprocessing.Process(target=program_2, args=(stop_event,))\n",
    "    program_2_process.start()\n",
    "\n",
    "    # Simulate external trigger (in actual use, this would be replaced by a GPIO input, etc.)\n",
    "    while True:\n",
    "        user_input = input(\"Press 't' to trigger Program 3: \")\n",
    "        if user_input.lower() == 't':\n",
    "            # Stop Program 2\n",
    "            stop_event.set()\n",
    "            program_2_process.join()  # Ensure Program 2 has stopped before running Program 3\n",
    "            \n",
    "            # Run Program 3\n",
    "            external_trigger()\n",
    "            \n",
    "            # Restart Program 2\n",
    "            stop_event.clear()\n",
    "            program_2_process = multiprocessing.Process(target=program_2, args=(stop_event,))\n",
    "            program_2_process.start()\n",
    "\n",
    "if __name__ == \"__main__\":\n",
    "    main()\n"
   ]
  },
  {
   "cell_type": "code",
   "execution_count": null,
   "metadata": {},
   "outputs": [],
   "source": []
  },
  {
   "cell_type": "code",
   "execution_count": null,
   "metadata": {},
   "outputs": [],
   "source": [
    "# Python3 code to demonstrate \n",
    "# translations using \n",
    "# maketrans() and translate() \n",
    "\n",
    "# specify to translate chars \n",
    "str1 = \"wy\"\n",
    "\n",
    "# specify to replace with \n",
    "str2 = \"gf\"\n",
    "\n",
    "# delete chars \n",
    "str3 = \"u\"\n",
    "\n",
    "# target string \n",
    "trg = \"weeksyourweeks\"\n",
    "\n",
    "# using maketrans() to \n",
    "# construct translate \n",
    "# table \n",
    "table = trg.maketrans(str1, str2, str3) \n",
    "\n",
    "# Printing original string \n",
    "print (\"The string before translating is : \", end =\"\") \n",
    "print (trg) \n",
    "print(table)\n",
    "# using translate() to make translations. \n",
    "print (\"The string after translating is : \", end =\"\") \n",
    "print (trg.translate(table)) \n",
    "\n"
   ]
  },
  {
   "cell_type": "code",
   "execution_count": 1,
   "metadata": {},
   "outputs": [
    {
     "name": "stdout",
     "output_type": "stream",
     "text": [
      "RTC Write is running (once at startup or Wi-Fi connection).\n",
      "RTC Write has finished.\n",
      "Actuators are running.\n",
      "Wi-Fi connected.\n",
      "RTC Write is running (once at startup or Wi-Fi connection).\n",
      "RTC Write has finished.\n",
      "Actuators are preparing for the next cycle.\n",
      "Actuators are running.\n",
      "Actuators are preparing for the next cycle.\n",
      "Actuators are running.\n",
      "Actuators are preparing for the next cycle.\n",
      "Switch is running due to button press.\n",
      "Switch has finished.\n",
      "Actuators are running.\n",
      "Actuators are preparing for the next cycle.\n",
      "Actuators are running.\n",
      "Actuators received stop signal.\n",
      "Switch is running due to button press.\n",
      "Switch has finished.\n",
      "Actuators are running.\n",
      "Actuators are preparing for the next cycle.\n",
      "Actuators are running.\n",
      "Actuators are preparing for the next cycle.\n",
      "Actuators are running.\n",
      "Actuators are preparing for the next cycle.\n",
      "Actuators are running.\n",
      "Actuators are preparing for the next cycle.\n",
      "Actuators are running.\n",
      "Actuators are preparing for the next cycle.\n",
      "Actuators are running.\n",
      "Actuators are preparing for the next cycle.\n",
      "Actuators are running.\n"
     ]
    }
   ],
   "source": [
    "import threading\n",
    "import time\n",
    "\n",
    "# RTC Write - Runs once at startup and when connected to Wi-Fi\n",
    "def rtc_write():\n",
    "    print(\"RTC Write is running (once at startup or Wi-Fi connection).\")\n",
    "    time.sleep(2)  # Simulate some work\n",
    "    print(\"RTC Write has finished.\")\n",
    "\n",
    "# Actuators - Runs every 5 minutes (simulated as every 5 seconds for quick testing)\n",
    "def actuators(stop_event):\n",
    "    while not stop_event.is_set():\n",
    "        print(\"Actuators are running.\")\n",
    "        \n",
    "        # Sleep for 5 minutes (simulated as 5 seconds for testing)\n",
    "        for _ in range(5):  # Adjust 5 to 300 for actual 5 minutes\n",
    "            if stop_event.is_set():\n",
    "                print(\"Actuators received stop signal.\")\n",
    "                return\n",
    "            time.sleep(1)\n",
    "        \n",
    "        print(\"Actuators are preparing for the next cycle.\")\n",
    "\n",
    "# Switch - Runs when triggered by button press\n",
    "def switch():\n",
    "    print(\"Switch is running due to button press.\")\n",
    "    time.sleep(10)  # Simulate some work\n",
    "    print(\"Switch has finished.\")\n",
    "\n",
    "# Function to simulate Wi-Fi connection event\n",
    "def simulate_wifi_connection():\n",
    "    print(\"Wi-Fi connected.\")\n",
    "    rtc_write()\n",
    "\n",
    "# Main execution\n",
    "if __name__ == \"__main__\":\n",
    "    # Create an event to signal stopping of Actuators\n",
    "    stop_event = threading.Event()\n",
    "\n",
    "    # Run RTC Write once at startup\n",
    "    rtc_write()\n",
    "\n",
    "    # Create and start the Actuators thread (runs every 5 minutes)\n",
    "    actuators_thread = threading.Thread(target=actuators, args=(stop_event,))\n",
    "    actuators_thread.start()\n",
    "\n",
    "    # Simulate Wi-Fi connection (this can be triggered when actual Wi-Fi connects)\n",
    "    simulate_wifi_connection()\n",
    "\n",
    "    # Simulate button press to run Switch (in real use, this could be a GPIO input)\n",
    "    while True:\n",
    "        user_input = input(\"Press 'b' to simulate button press for Switch: \")\n",
    "        if user_input.lower() == 'b':\n",
    "            # Stop Actuators before running Switch\n",
    "            stop_event.set()\n",
    "            actuators_thread.join()  # Ensure Actuators has stopped\n",
    "            \n",
    "            # Run the Switch script\n",
    "            switch_thread = threading.Thread(target=switch)\n",
    "            switch_thread.start()\n",
    "            switch_thread.join()  # Wait for Switch to finish\n",
    "\n",
    "            # Restart Actuators\n",
    "            stop_event.clear()\n",
    "            actuators_thread = threading.Thread(target=actuators, args=(stop_event,))\n",
    "            actuators_thread.start()\n"
   ]
  }
 ],
 "metadata": {
  "kernelspec": {
   "display_name": "Python 3",
   "language": "python",
   "name": "python3"
  },
  "language_info": {
   "codemirror_mode": {
    "name": "ipython",
    "version": 3
   },
   "file_extension": ".py",
   "mimetype": "text/x-python",
   "name": "python",
   "nbconvert_exporter": "python",
   "pygments_lexer": "ipython3",
   "version": "3.11.9"
  }
 },
 "nbformat": 4,
 "nbformat_minor": 2
}
